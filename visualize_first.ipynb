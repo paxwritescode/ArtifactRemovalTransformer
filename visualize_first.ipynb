{
 "cells": [
  {
   "cell_type": "code",
   "execution_count": null,
   "metadata": {},
   "outputs": [],
   "source": [
    "import mne\n",
    "import matplotlib.pyplot as plt\n",
    "\n",
    "raw: mne.io.Raw = mne.io.read_raw_edf(\"eeg_test.edf\")\n",
    "# print(raw)\n",
    "# print(raw.info)\n",
    "# print(raw.ch_names)\n",
    "eeg_data = raw.get_data()\n",
    "print(eeg_data.shape)\n",
    "raw.plot(n_channels = len(raw.ch_names), duration=20.0, start=10.0) # отобразить 20 секунд записи начиная с десятой секунды"
   ]
  }
 ],
 "metadata": {
  "kernelspec": {
   "display_name": "Python 3",
   "language": "python",
   "name": "python3"
  },
  "language_info": {
   "codemirror_mode": {
    "name": "ipython",
    "version": 3
   },
   "file_extension": ".py",
   "mimetype": "text/x-python",
   "name": "python",
   "nbconvert_exporter": "python",
   "pygments_lexer": "ipython3",
   "version": "3.10.18"
  }
 },
 "nbformat": 4,
 "nbformat_minor": 2
}
